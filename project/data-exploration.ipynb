{
 "cells": [
  {
   "cell_type": "markdown",
   "source": [
    "# Exploring Our Dataset\n",
    "\n",
    "This notebook provides a detailed exploration of our dataset."
   ],
   "metadata": {
    "collapsed": false
   }
  },
  {
   "cell_type": "markdown",
   "source": [
    "## 1. Install dependencies"
   ],
   "metadata": {
    "collapsed": false
   }
  },
  {
   "cell_type": "code",
   "execution_count": 1,
   "outputs": [
    {
     "name": "stdout",
     "output_type": "stream",
     "text": [
      "Requirement already satisfied: pandas in /Users/miro/.conda/envs/src_to_implement/lib/python3.10/site-packages (2.1.4)\r\n",
      "Requirement already satisfied: pytz>=2020.1 in /Users/miro/.conda/envs/src_to_implement/lib/python3.10/site-packages (from pandas) (2023.3.post1)\r\n",
      "Requirement already satisfied: tzdata>=2022.1 in /Users/miro/.conda/envs/src_to_implement/lib/python3.10/site-packages (from pandas) (2023.3)\r\n",
      "Requirement already satisfied: numpy<2,>=1.22.4 in /Users/miro/.conda/envs/src_to_implement/lib/python3.10/site-packages (from pandas) (1.26.2)\r\n",
      "Requirement already satisfied: python-dateutil>=2.8.2 in /Users/miro/.conda/envs/src_to_implement/lib/python3.10/site-packages (from pandas) (2.8.2)\r\n",
      "Requirement already satisfied: six>=1.5 in /Users/miro/.conda/envs/src_to_implement/lib/python3.10/site-packages (from python-dateutil>=2.8.2->pandas) (1.16.0)\r\n",
      "Note: you may need to restart the kernel to use updated packages.\n",
      "Requirement already satisfied: SQLAlchemy in /Users/miro/.conda/envs/src_to_implement/lib/python3.10/site-packages (2.0.16)\r\n",
      "Requirement already satisfied: greenlet!=0.4.17 in /Users/miro/.conda/envs/src_to_implement/lib/python3.10/site-packages (from SQLAlchemy) (3.0.1)\r\n",
      "Requirement already satisfied: typing-extensions>=4.2.0 in /Users/miro/.conda/envs/src_to_implement/lib/python3.10/site-packages (from SQLAlchemy) (4.5.0)\r\n",
      "Note: you may need to restart the kernel to use updated packages.\n",
      "Requirement already satisfied: numpy in /Users/miro/.conda/envs/src_to_implement/lib/python3.10/site-packages (1.26.2)\r\n",
      "Note: you may need to restart the kernel to use updated packages.\n"
     ]
    }
   ],
   "source": [
    "%pip install pandas\n",
    "%pip install SQLAlchemy\n",
    "%pip install numpy"
   ],
   "metadata": {
    "collapsed": false
   }
  },
  {
   "cell_type": "markdown",
   "source": [
    "## 2. Load data from datasets"
   ],
   "metadata": {
    "collapsed": false
   }
  },
  {
   "cell_type": "code",
   "execution_count": 8,
   "outputs": [],
   "source": [
    "import pandas as pd\n",
    "\n",
    "df1 = pd.read_sql_table('dataset1', 'sqlite:////Users/miro/PycharmProjects/made-template/data/data/dataset1.sqlite')\n"
   ],
   "metadata": {
    "collapsed": false
   }
  },
  {
   "cell_type": "markdown",
   "source": [
    "### 3. Dataset1: Bikers in Fahrrad-Dauerzählstellen München"
   ],
   "metadata": {
    "collapsed": false
   }
  },
  {
   "cell_type": "markdown",
   "source": [
    "This table represents data with columns: Date, Direction 1, Direction 2, and gesamt.\n",
    "Each row corresponds to a specific date, and the values indicate the corresponding values for Direction 1, Direction 2, and the gesamt."
   ],
   "metadata": {
    "collapsed": false
   }
  },
  {
   "cell_type": "code",
   "execution_count": 9,
   "outputs": [
    {
     "data": {
      "text/plain": "       datum  richtung_1  richtung_2  gesamt\n0 2011-01-01       115.0        91.0   206.0\n1 2011-01-02       136.0       109.0   245.0\n2 2011-01-03        52.0        29.0    81.0\n3 2011-01-04        23.0        14.0    37.0\n4 2011-01-05        33.0        18.0    51.0\n5 2011-01-06        57.0        25.0    82.0\n6 2011-01-07       135.0       126.0   261.0\n7 2011-01-08       232.0       238.0   470.0",
      "text/html": "<div>\n<style scoped>\n    .dataframe tbody tr th:only-of-type {\n        vertical-align: middle;\n    }\n\n    .dataframe tbody tr th {\n        vertical-align: top;\n    }\n\n    .dataframe thead th {\n        text-align: right;\n    }\n</style>\n<table border=\"1\" class=\"dataframe\">\n  <thead>\n    <tr style=\"text-align: right;\">\n      <th></th>\n      <th>datum</th>\n      <th>richtung_1</th>\n      <th>richtung_2</th>\n      <th>gesamt</th>\n    </tr>\n  </thead>\n  <tbody>\n    <tr>\n      <th>0</th>\n      <td>2011-01-01</td>\n      <td>115.0</td>\n      <td>91.0</td>\n      <td>206.0</td>\n    </tr>\n    <tr>\n      <th>1</th>\n      <td>2011-01-02</td>\n      <td>136.0</td>\n      <td>109.0</td>\n      <td>245.0</td>\n    </tr>\n    <tr>\n      <th>2</th>\n      <td>2011-01-03</td>\n      <td>52.0</td>\n      <td>29.0</td>\n      <td>81.0</td>\n    </tr>\n    <tr>\n      <th>3</th>\n      <td>2011-01-04</td>\n      <td>23.0</td>\n      <td>14.0</td>\n      <td>37.0</td>\n    </tr>\n    <tr>\n      <th>4</th>\n      <td>2011-01-05</td>\n      <td>33.0</td>\n      <td>18.0</td>\n      <td>51.0</td>\n    </tr>\n    <tr>\n      <th>5</th>\n      <td>2011-01-06</td>\n      <td>57.0</td>\n      <td>25.0</td>\n      <td>82.0</td>\n    </tr>\n    <tr>\n      <th>6</th>\n      <td>2011-01-07</td>\n      <td>135.0</td>\n      <td>126.0</td>\n      <td>261.0</td>\n    </tr>\n    <tr>\n      <th>7</th>\n      <td>2011-01-08</td>\n      <td>232.0</td>\n      <td>238.0</td>\n      <td>470.0</td>\n    </tr>\n  </tbody>\n</table>\n</div>"
     },
     "execution_count": 9,
     "metadata": {},
     "output_type": "execute_result"
    }
   ],
   "source": [
    "df1.head(8)"
   ],
   "metadata": {
    "collapsed": false
   }
  },
  {
   "cell_type": "markdown",
   "source": [
    "## 4. Data exploration\n",
    "This notebook provides a detailed exploration of our dataset, unraveling insights and patterns through analysis and visualization."
   ],
   "metadata": {
    "collapsed": false
   }
  },
  {
   "cell_type": "markdown",
   "source": [
    "### 4.1. Dataset 1: Fahrrad-Dauerzählstellen München in München"
   ],
   "metadata": {
    "collapsed": false
   }
  },
  {
   "cell_type": "markdown",
   "source": [
    "Showing information about the indices and there datatypes"
   ],
   "metadata": {
    "collapsed": false
   }
  },
  {
   "cell_type": "code",
   "execution_count": 4,
   "outputs": [
    {
     "data": {
      "text/plain": [
       "Index(['datum', 'richtung_1', 'richtung_2', 'gesamt'], dtype='object')"
      ]
     },
     "execution_count": 4,
     "metadata": {},
     "output_type": "execute_result"
    }
   ],
   "source": [
    "df1.columns"
   ],
   "metadata": {
    "collapsed": false
   }
  },
  {
   "cell_type": "code",
   "execution_count": 19,
   "outputs": [],
   "source": [
    "df1.rename(columns = {'datum':'Date'},inplace =True)\n",
    "df1.rename(columns = {'richtung_1':'Direction 1'},inplace=True)\n",
    "df1.rename(columns = {'richtung_2':'Direction 2'},inplace=True)\n",
    "df1.rename(columns = {'gesamt':'Total'},inplace=True)"
   ],
   "metadata": {
    "collapsed": false
   }
  },
  {
   "cell_type": "code",
   "execution_count": 20,
   "outputs": [
    {
     "data": {
      "text/plain": "          Date  Direction 1  Direction 2   Total\n0   2011-01-01        115.0         91.0   206.0\n1   2011-01-02        136.0        109.0   245.0\n2   2011-01-03         52.0         29.0    81.0\n3   2011-01-04         23.0         14.0    37.0\n4   2011-01-05         33.0         18.0    51.0\n..         ...          ...          ...     ...\n360 2011-12-27       1581.0       1287.0  2868.0\n361 2011-12-28       1761.0       1364.0  3125.0\n362 2011-12-29       1442.0       1170.0  2612.0\n363 2011-12-30       1138.0        915.0  2053.0\n364 2011-12-31        546.0        466.0  1012.0\n\n[365 rows x 4 columns]",
      "text/html": "<div>\n<style scoped>\n    .dataframe tbody tr th:only-of-type {\n        vertical-align: middle;\n    }\n\n    .dataframe tbody tr th {\n        vertical-align: top;\n    }\n\n    .dataframe thead th {\n        text-align: right;\n    }\n</style>\n<table border=\"1\" class=\"dataframe\">\n  <thead>\n    <tr style=\"text-align: right;\">\n      <th></th>\n      <th>Date</th>\n      <th>Direction 1</th>\n      <th>Direction 2</th>\n      <th>Total</th>\n    </tr>\n  </thead>\n  <tbody>\n    <tr>\n      <th>0</th>\n      <td>2011-01-01</td>\n      <td>115.0</td>\n      <td>91.0</td>\n      <td>206.0</td>\n    </tr>\n    <tr>\n      <th>1</th>\n      <td>2011-01-02</td>\n      <td>136.0</td>\n      <td>109.0</td>\n      <td>245.0</td>\n    </tr>\n    <tr>\n      <th>2</th>\n      <td>2011-01-03</td>\n      <td>52.0</td>\n      <td>29.0</td>\n      <td>81.0</td>\n    </tr>\n    <tr>\n      <th>3</th>\n      <td>2011-01-04</td>\n      <td>23.0</td>\n      <td>14.0</td>\n      <td>37.0</td>\n    </tr>\n    <tr>\n      <th>4</th>\n      <td>2011-01-05</td>\n      <td>33.0</td>\n      <td>18.0</td>\n      <td>51.0</td>\n    </tr>\n    <tr>\n      <th>...</th>\n      <td>...</td>\n      <td>...</td>\n      <td>...</td>\n      <td>...</td>\n    </tr>\n    <tr>\n      <th>360</th>\n      <td>2011-12-27</td>\n      <td>1581.0</td>\n      <td>1287.0</td>\n      <td>2868.0</td>\n    </tr>\n    <tr>\n      <th>361</th>\n      <td>2011-12-28</td>\n      <td>1761.0</td>\n      <td>1364.0</td>\n      <td>3125.0</td>\n    </tr>\n    <tr>\n      <th>362</th>\n      <td>2011-12-29</td>\n      <td>1442.0</td>\n      <td>1170.0</td>\n      <td>2612.0</td>\n    </tr>\n    <tr>\n      <th>363</th>\n      <td>2011-12-30</td>\n      <td>1138.0</td>\n      <td>915.0</td>\n      <td>2053.0</td>\n    </tr>\n    <tr>\n      <th>364</th>\n      <td>2011-12-31</td>\n      <td>546.0</td>\n      <td>466.0</td>\n      <td>1012.0</td>\n    </tr>\n  </tbody>\n</table>\n<p>365 rows × 4 columns</p>\n</div>"
     },
     "execution_count": 20,
     "metadata": {},
     "output_type": "execute_result"
    }
   ],
   "source": [
    "df1"
   ],
   "metadata": {
    "collapsed": false
   }
  },
  {
   "cell_type": "markdown",
   "source": [
    "These operations will help us analyze the data and understand its distribution, central tendency, variability, and relationships between columns."
   ],
   "metadata": {
    "collapsed": false
   }
  },
  {
   "cell_type": "code",
   "execution_count": 13,
   "outputs": [
    {
     "data": {
      "text/plain": "                     datum    richtung_1   richtung_2        gesamt\ncount                  365    365.000000   365.000000    365.000000\nmean   2011-07-02 00:00:00   3096.652055  2457.484932   5554.136986\nmin    2011-01-01 00:00:00     23.000000    14.000000     37.000000\n25%    2011-04-02 00:00:00   1308.000000   856.000000   2161.000000\n50%    2011-07-02 00:00:00   2622.000000  1798.000000   4402.000000\n75%    2011-10-01 00:00:00   4389.000000  3665.000000   7936.000000\nmax    2011-12-31 00:00:00  10380.000000  8950.000000  19330.000000\nstd                    NaN   2238.026162  1996.839740   4224.029892",
      "text/html": "<div>\n<style scoped>\n    .dataframe tbody tr th:only-of-type {\n        vertical-align: middle;\n    }\n\n    .dataframe tbody tr th {\n        vertical-align: top;\n    }\n\n    .dataframe thead th {\n        text-align: right;\n    }\n</style>\n<table border=\"1\" class=\"dataframe\">\n  <thead>\n    <tr style=\"text-align: right;\">\n      <th></th>\n      <th>datum</th>\n      <th>richtung_1</th>\n      <th>richtung_2</th>\n      <th>gesamt</th>\n    </tr>\n  </thead>\n  <tbody>\n    <tr>\n      <th>count</th>\n      <td>365</td>\n      <td>365.000000</td>\n      <td>365.000000</td>\n      <td>365.000000</td>\n    </tr>\n    <tr>\n      <th>mean</th>\n      <td>2011-07-02 00:00:00</td>\n      <td>3096.652055</td>\n      <td>2457.484932</td>\n      <td>5554.136986</td>\n    </tr>\n    <tr>\n      <th>min</th>\n      <td>2011-01-01 00:00:00</td>\n      <td>23.000000</td>\n      <td>14.000000</td>\n      <td>37.000000</td>\n    </tr>\n    <tr>\n      <th>25%</th>\n      <td>2011-04-02 00:00:00</td>\n      <td>1308.000000</td>\n      <td>856.000000</td>\n      <td>2161.000000</td>\n    </tr>\n    <tr>\n      <th>50%</th>\n      <td>2011-07-02 00:00:00</td>\n      <td>2622.000000</td>\n      <td>1798.000000</td>\n      <td>4402.000000</td>\n    </tr>\n    <tr>\n      <th>75%</th>\n      <td>2011-10-01 00:00:00</td>\n      <td>4389.000000</td>\n      <td>3665.000000</td>\n      <td>7936.000000</td>\n    </tr>\n    <tr>\n      <th>max</th>\n      <td>2011-12-31 00:00:00</td>\n      <td>10380.000000</td>\n      <td>8950.000000</td>\n      <td>19330.000000</td>\n    </tr>\n    <tr>\n      <th>std</th>\n      <td>NaN</td>\n      <td>2238.026162</td>\n      <td>1996.839740</td>\n      <td>4224.029892</td>\n    </tr>\n  </tbody>\n</table>\n</div>"
     },
     "execution_count": 13,
     "metadata": {},
     "output_type": "execute_result"
    }
   ],
   "source": [
    "df1.describe()"
   ],
   "metadata": {
    "collapsed": false
   }
  },
  {
   "cell_type": "markdown",
   "source": [
    "Show the total amount of bikers for the whole year"
   ],
   "metadata": {
    "collapsed": false
   }
  },
  {
   "cell_type": "code",
   "execution_count": 16,
   "outputs": [
    {
     "data": {
      "text/plain": "2027260.0"
     },
     "execution_count": 16,
     "metadata": {},
     "output_type": "execute_result"
    }
   ],
   "source": [
    "df1['gesamt'].sum()"
   ],
   "metadata": {
    "collapsed": false
   }
  },
  {
   "cell_type": "markdown",
   "metadata": {},
   "source": [
    "Correlation matrix between columns"
   ]
  },
  {
   "cell_type": "code",
   "execution_count": 21,
   "outputs": [
    {
     "name": "stdout",
     "output_type": "stream",
     "text": [
      "                 Date  Direction 1  Direction 2     Total\n",
      "Date         1.000000     0.512314     0.551268  0.532043\n",
      "Direction 1  0.512314     1.000000     0.989745  0.997717\n",
      "Direction 2  0.551268     0.989745     1.000000  0.997132\n",
      "Total        0.532043     0.997717     0.997132  1.000000\n"
     ]
    }
   ],
   "source": [
    "correlation_matrix = df1.corr()\n",
    "print(correlation_matrix)"
   ],
   "metadata": {
    "collapsed": false
   }
  },
  {
   "cell_type": "markdown",
   "metadata": {},
   "source": [
    "Showing the amount of bikers for each month"
   ]
  },
  {
   "cell_type": "code",
   "execution_count": null,
   "metadata": {
    "pycharm": {
     "is_executing": true
    }
   },
   "outputs": [],
   "source": [
    "# Group by month and sum the 'Total'\n",
    "dg = df1.groupby(pd.Grouper(key='Date', freq='M')).sum()\n",
    "\n",
    "# Find the month with the highest total bikers\n",
    "max_month = dg['Total'].idxmax()\n",
    "\n",
    "print(f\"The month with the highest total bikers is: {max_month.strftime('%B')}\")\n"
   ]
  },
  {
   "cell_type": "markdown",
   "metadata": {},
   "source": [
    "##### 4.1 correlation between the total number of bikers and the difference between bikers inward and outward\n",
    "\n",
    "The correlation coefficient of 0.62 indicates a moderate positive correlation between these variables.\n",
    "\n",
    "Here's a breakdown of the correlation coefficient values:\n",
    "\n",
    "+------------------------+------------------------------------+\n",
    "| Correlation Coefficient | Interpretation                     |\n",
    "+------------------------+------------------------------------+\n",
    "| 1.0                    | Perfect positive correlation        |\n",
    "| 0.8 - 0.99             | Very strong positive correlation    |\n",
    "| 0.6 - 0.79             | Strong positive correlation         |\n",
    "| 0.4 - 0.59             | Moderate positive correlation       |\n",
    "| 0.2 - 0.39             | Weak positive correlation           |\n",
    "| 0.0 - 0.19             | No correlation                      |\n",
    "| -0.2 - -0.39           | Weak negative correlation           |\n",
    "| -0.4 - -0.59           | Moderate negative correlation       |\n",
    "| -0.6 - -0.79           | Strong negative correlation         |\n",
    "| -0.8 - -0.99           | Very strong negative correlation    |\n",
    "| -1.0                   | Perfect negative correlation        |\n",
    "+------------------------+------------------------------------+\n",
    "\n",
    "In my case, a correlation coefficient of 0.62 suggests a moderate positive correlation between the 'Total' column and the difference between 'Direction 1' and 'Direction 2' columns. This means that as one variable increases, the other tends to increase as well, but the relationship is not perfect."
   ]
  },
  {
   "cell_type": "code",
   "execution_count": 22,
   "metadata": {},
   "outputs": [
    {
     "name": "stdout",
     "output_type": "stream",
     "text": [
      "Intel MKL WARNING: Support of Intel(R) Streaming SIMD Extensions 4.2 (Intel(R) SSE4.2) enabled only processors has been deprecated. Intel oneAPI Math Kernel Library 2025.0 will require Intel(R) Advanced Vector Extensions (Intel(R) AVX) instructions.\n",
      "The correlation coefficient is 0.62.\n"
     ]
    }
   ],
   "source": [
    "correlation = df1['Total'].corr(df1['Direction 1'] - df1['Direction 2'])\n",
    "print(f\"The correlation coefficient is {correlation:.2f}.\")"
   ]
  },
  {
   "cell_type": "code",
   "execution_count": 25,
   "metadata": {},
   "outputs": [
    {
     "data": {
      "text/plain": "        Date  Direction 1  Direction 2  Total  day  month  year\n0 2011-01-01        115.0         91.0  206.0    1      1  2011\n1 2011-01-02        136.0        109.0  245.0    2      1  2011\n2 2011-01-03         52.0         29.0   81.0    3      1  2011\n3 2011-01-04         23.0         14.0   37.0    4      1  2011\n4 2011-01-05         33.0         18.0   51.0    5      1  2011",
      "text/html": "<div>\n<style scoped>\n    .dataframe tbody tr th:only-of-type {\n        vertical-align: middle;\n    }\n\n    .dataframe tbody tr th {\n        vertical-align: top;\n    }\n\n    .dataframe thead th {\n        text-align: right;\n    }\n</style>\n<table border=\"1\" class=\"dataframe\">\n  <thead>\n    <tr style=\"text-align: right;\">\n      <th></th>\n      <th>Date</th>\n      <th>Direction 1</th>\n      <th>Direction 2</th>\n      <th>Total</th>\n      <th>day</th>\n      <th>month</th>\n      <th>year</th>\n    </tr>\n  </thead>\n  <tbody>\n    <tr>\n      <th>0</th>\n      <td>2011-01-01</td>\n      <td>115.0</td>\n      <td>91.0</td>\n      <td>206.0</td>\n      <td>1</td>\n      <td>1</td>\n      <td>2011</td>\n    </tr>\n    <tr>\n      <th>1</th>\n      <td>2011-01-02</td>\n      <td>136.0</td>\n      <td>109.0</td>\n      <td>245.0</td>\n      <td>2</td>\n      <td>1</td>\n      <td>2011</td>\n    </tr>\n    <tr>\n      <th>2</th>\n      <td>2011-01-03</td>\n      <td>52.0</td>\n      <td>29.0</td>\n      <td>81.0</td>\n      <td>3</td>\n      <td>1</td>\n      <td>2011</td>\n    </tr>\n    <tr>\n      <th>3</th>\n      <td>2011-01-04</td>\n      <td>23.0</td>\n      <td>14.0</td>\n      <td>37.0</td>\n      <td>4</td>\n      <td>1</td>\n      <td>2011</td>\n    </tr>\n    <tr>\n      <th>4</th>\n      <td>2011-01-05</td>\n      <td>33.0</td>\n      <td>18.0</td>\n      <td>51.0</td>\n      <td>5</td>\n      <td>1</td>\n      <td>2011</td>\n    </tr>\n  </tbody>\n</table>\n</div>"
     },
     "execution_count": 25,
     "metadata": {},
     "output_type": "execute_result"
    }
   ],
   "source": [
    "# convert the date column into a datetime object\n",
    "df1['Date'] = pd.to_datetime(df1['Date'])\n",
    "\n",
    "# extract the day, month, and year components\n",
    "df1['day'] = df1['Date'].dt.day\n",
    "df1['month'] = df1['Date'].dt.month\n",
    "df1['year'] = df1['Date'].dt.year\n",
    "\n",
    "# show the modified data frame\n",
    "df1.head(5)"
   ]
  },
  {
   "cell_type": "markdown",
   "metadata": {},
   "source": [
    " find the day with the highest total bikers for each month"
   ]
  },
  {
   "cell_type": "code",
   "execution_count": 28,
   "metadata": {},
   "outputs": [
    {
     "name": "stdout",
     "output_type": "stream",
     "text": [
      "     month  day    Total\n",
      "17       1   18   1913.0\n",
      "37       2    7   2036.0\n",
      "87       3   29   3650.0\n",
      "99       4   10   4866.0\n",
      "149      5   30   6624.0\n",
      "178      6   28   7936.0\n",
      "206      7   26  17526.0\n",
      "213      8    2  19330.0\n",
      "255      9   13  15597.0\n",
      "276     10    4  13307.0\n",
      "311     11    8  10026.0\n",
      "335     12    2   7590.0\n"
     ]
    }
   ],
   "source": [
    "# Group by month and find the day with the highest total bikers for each month\n",
    "highest_bikers_per_month = df1.groupby(df1['Date'].dt.to_period(\"M\"))['Total'].idxmax()\n",
    "\n",
    "# Extract the corresponding rows\n",
    "result_df = df1.loc[highest_bikers_per_month]\n",
    "\n",
    "# Display the result\n",
    "print(result_df[['month', 'day', 'Total']])"
   ]
  },
  {
   "cell_type": "markdown",
   "metadata": {},
   "source": [
    "#### 4.2 find the day with the lowest total bikers for each month\n",
    "\n",
    "This code creates 'month' and 'day' columns from the 'Date' column, and then extracts the specified columns\n",
    "from the resulting DataFrame."
   ]
  },
  {
   "cell_type": "code",
   "execution_count": 30,
   "metadata": {},
   "outputs": [
    {
     "name": "stdout",
     "output_type": "stream",
     "text": [
      "     month  day   Total\n",
      "3        1    4    37.0\n",
      "31       2    1   558.0\n",
      "85       3   27   512.0\n",
      "93       4    4  1685.0\n",
      "146      5   27  1516.0\n",
      "168      6   18   733.0\n",
      "203      7   23  2256.0\n",
      "218      8    7  3221.0\n",
      "260      9   18  1711.0\n",
      "280     10    8  2460.0\n",
      "329     11   26  3322.0\n",
      "358     12   25   830.0\n"
     ]
    }
   ],
   "source": [
    "# Assuming 'Date' is in datetime format\n",
    "df1['month'] = df1['Date'].dt.month\n",
    "df1['day'] = df1['Date'].dt.day\n",
    "\n",
    "# Group by month and find the day with the lowest total bikers for each month\n",
    "lowest_bikers_per_month = df1.groupby(df1['Date'].dt.to_period(\"M\"))['Total'].idxmin()\n",
    "\n",
    "# Extract the corresponding rows\n",
    "result_df = df1.loc[lowest_bikers_per_month]\n",
    "\n",
    "# Display the result\n",
    "print(result_df[['month', 'day', 'Total']])"
   ]
  },
  {
   "cell_type": "markdown",
   "metadata": {},
   "source": [
    "#### 4.3 calculate the sum Total bikers of the first week days of each month"
   ]
  },
  {
   "cell_type": "code",
   "execution_count": 31,
   "outputs": [
    {
     "name": "stdout",
     "output_type": "stream",
     "text": [
      "month\n",
      "1       963.0\n",
      "2      8230.0\n",
      "3     10097.0\n",
      "4     25720.0\n",
      "5     28146.0\n",
      "6     26689.0\n",
      "7     37231.0\n",
      "8     88761.0\n",
      "9     67593.0\n",
      "10    74276.0\n",
      "11    53056.0\n",
      "12    35828.0\n",
      "Name: Total, dtype: float64\n"
     ]
    }
   ],
   "source": [
    "# Filter the DataFrame to include only the first seven days of each month\n",
    "first_seven_days = df1[df1['day'].between(1, 7)]\n",
    "\n",
    "# Calculate the sum of 'Total bikers' for each month\n",
    "monthly_sum = first_seven_days.groupby('month')['Total'].sum()\n",
    "\n",
    "# Display the result\n",
    "print(monthly_sum)\n"
   ],
   "metadata": {
    "collapsed": false
   }
  }
 ],
 "metadata": {
  "kernelspec": {
   "display_name": "Python 3 (ipykernel)",
   "language": "python",
   "name": "python3"
  },
  "language_info": {
   "codemirror_mode": {
    "name": "ipython",
    "version": 3
   },
   "file_extension": ".py",
   "mimetype": "text/x-python",
   "name": "python",
   "nbconvert_exporter": "python",
   "pygments_lexer": "ipython3",
   "version": "3.10.9"
  }
 },
 "nbformat": 4,
 "nbformat_minor": 2
}
