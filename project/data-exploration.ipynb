{
 "cells": [
  {
   "cell_type": "markdown",
   "metadata": {},
   "source": [
    "# Data Exploration\n",
    "\n",
    "In this notebook describe your data exploration steps."
   ]
  },
  {
   "cell_type": "markdown",
   "metadata": {},
   "source": [
    "## 1. Install dependencies"
   ]
  },
  {
   "cell_type": "code",
   "execution_count": null,
   "metadata": {},
   "outputs": [],
   "source": [
    "%pip install pandas\n",
    "%pip install SQLAlchemy\n",
    "%pip install numpy"
   ]
  },
  {
   "cell_type": "markdown",
   "metadata": {},
   "source": [
    "## 2. Load data"
   ]
  },
  {
   "cell_type": "code",
   "execution_count": 72,
   "metadata": {},
   "outputs": [],
   "source": [
    "import pandas as pd\n",
    "\n",
    "df1 = pd.read_sql_table('dataset1', 'sqlite:////Users/miro/PycharmProjects/made-template/data/data/dataset1.sqlite')\n",
    "df2 = pd.read_sql_table('dataset2', 'sqlite:////Users/miro/PycharmProjects/made-template/data/data/dataset2.sqlite')"
   ]
  },
  {
   "cell_type": "markdown",
   "metadata": {},
   "source": [
    "## 3. Dataset1: Fahrrad-Dauerzählstellen München"
   ]
  },
  {
   "cell_type": "markdown",
   "metadata": {},
   "source": [
    "This table represents data with columns: Date, Direction 1, Direction 2, day, month, year and gesamt. Each row corresponds to a specific date, and the values indicate the corresponding values for Direction 1, Direction 2, and the gesamt."
   ]
  },
  {
   "cell_type": "code",
   "execution_count": 58,
   "metadata": {},
   "outputs": [
    {
     "data": {
      "text/plain": "       datum  richtung_1  richtung_2  gesamt  day  month  year\n0 2011-01-01       115.0        91.0   206.0    1      1  2011\n1 2011-01-02       136.0       109.0   245.0    2      1  2011\n2 2011-01-03        52.0        29.0    81.0    3      1  2011\n3 2011-01-04        23.0        14.0    37.0    4      1  2011\n4 2011-01-05        33.0        18.0    51.0    5      1  2011\n5 2011-01-06        57.0        25.0    82.0    6      1  2011\n6 2011-01-07       135.0       126.0   261.0    7      1  2011\n7 2011-01-08       232.0       238.0   470.0    8      1  2011",
      "text/html": "<div>\n<style scoped>\n    .dataframe tbody tr th:only-of-type {\n        vertical-align: middle;\n    }\n\n    .dataframe tbody tr th {\n        vertical-align: top;\n    }\n\n    .dataframe thead th {\n        text-align: right;\n    }\n</style>\n<table border=\"1\" class=\"dataframe\">\n  <thead>\n    <tr style=\"text-align: right;\">\n      <th></th>\n      <th>datum</th>\n      <th>richtung_1</th>\n      <th>richtung_2</th>\n      <th>gesamt</th>\n      <th>day</th>\n      <th>month</th>\n      <th>year</th>\n    </tr>\n  </thead>\n  <tbody>\n    <tr>\n      <th>0</th>\n      <td>2011-01-01</td>\n      <td>115.0</td>\n      <td>91.0</td>\n      <td>206.0</td>\n      <td>1</td>\n      <td>1</td>\n      <td>2011</td>\n    </tr>\n    <tr>\n      <th>1</th>\n      <td>2011-01-02</td>\n      <td>136.0</td>\n      <td>109.0</td>\n      <td>245.0</td>\n      <td>2</td>\n      <td>1</td>\n      <td>2011</td>\n    </tr>\n    <tr>\n      <th>2</th>\n      <td>2011-01-03</td>\n      <td>52.0</td>\n      <td>29.0</td>\n      <td>81.0</td>\n      <td>3</td>\n      <td>1</td>\n      <td>2011</td>\n    </tr>\n    <tr>\n      <th>3</th>\n      <td>2011-01-04</td>\n      <td>23.0</td>\n      <td>14.0</td>\n      <td>37.0</td>\n      <td>4</td>\n      <td>1</td>\n      <td>2011</td>\n    </tr>\n    <tr>\n      <th>4</th>\n      <td>2011-01-05</td>\n      <td>33.0</td>\n      <td>18.0</td>\n      <td>51.0</td>\n      <td>5</td>\n      <td>1</td>\n      <td>2011</td>\n    </tr>\n    <tr>\n      <th>5</th>\n      <td>2011-01-06</td>\n      <td>57.0</td>\n      <td>25.0</td>\n      <td>82.0</td>\n      <td>6</td>\n      <td>1</td>\n      <td>2011</td>\n    </tr>\n    <tr>\n      <th>6</th>\n      <td>2011-01-07</td>\n      <td>135.0</td>\n      <td>126.0</td>\n      <td>261.0</td>\n      <td>7</td>\n      <td>1</td>\n      <td>2011</td>\n    </tr>\n    <tr>\n      <th>7</th>\n      <td>2011-01-08</td>\n      <td>232.0</td>\n      <td>238.0</td>\n      <td>470.0</td>\n      <td>8</td>\n      <td>1</td>\n      <td>2011</td>\n    </tr>\n  </tbody>\n</table>\n</div>"
     },
     "execution_count": 58,
     "metadata": {},
     "output_type": "execute_result"
    }
   ],
   "source": [
    "df1.head(8)"
   ]
  },
  {
   "cell_type": "markdown",
   "metadata": {},
   "source": [
    "## 3.1 Data exploration for dataset1: Fahrrad-Dauerzählstellen München"
   ]
  },
  {
   "cell_type": "markdown",
   "metadata": {},
   "source": [
    "Showing information about the indices and there datatypes"
   ]
  },
  {
   "cell_type": "code",
   "execution_count": 59,
   "metadata": {},
   "outputs": [
    {
     "data": {
      "text/plain": "Index(['datum', 'richtung_1', 'richtung_2', 'gesamt', 'day', 'month', 'year'], dtype='object')"
     },
     "execution_count": 59,
     "metadata": {},
     "output_type": "execute_result"
    }
   ],
   "source": [
    "df1.columns"
   ]
  },
  {
   "cell_type": "markdown",
   "metadata": {},
   "source": [
    "These operations will help us analyze the data and understand its distribution, central tendency, variability, and relationships between columns."
   ]
  },
  {
   "cell_type": "code",
   "execution_count": 60,
   "metadata": {},
   "outputs": [
    {
     "data": {
      "text/plain": "                     datum    richtung_1   richtung_2        gesamt  \\\ncount                  365    365.000000   365.000000    365.000000   \nmean   2011-07-02 00:00:00   3096.652055  2457.484932   5554.136986   \nmin    2011-01-01 00:00:00     23.000000    14.000000     37.000000   \n25%    2011-04-02 00:00:00   1308.000000   856.000000   2161.000000   \n50%    2011-07-02 00:00:00   2622.000000  1798.000000   4402.000000   \n75%    2011-10-01 00:00:00   4389.000000  3665.000000   7936.000000   \nmax    2011-12-31 00:00:00  10380.000000  8950.000000  19330.000000   \nstd                    NaN   2238.026162  1996.839740   4224.029892   \n\n              day       month    year  \ncount  365.000000  365.000000   365.0  \nmean    15.720548    6.526027  2011.0  \nmin      1.000000    1.000000  2011.0  \n25%      8.000000    4.000000  2011.0  \n50%     16.000000    7.000000  2011.0  \n75%     23.000000   10.000000  2011.0  \nmax     31.000000   12.000000  2011.0  \nstd      8.808321    3.452584     0.0  ",
      "text/html": "<div>\n<style scoped>\n    .dataframe tbody tr th:only-of-type {\n        vertical-align: middle;\n    }\n\n    .dataframe tbody tr th {\n        vertical-align: top;\n    }\n\n    .dataframe thead th {\n        text-align: right;\n    }\n</style>\n<table border=\"1\" class=\"dataframe\">\n  <thead>\n    <tr style=\"text-align: right;\">\n      <th></th>\n      <th>datum</th>\n      <th>richtung_1</th>\n      <th>richtung_2</th>\n      <th>gesamt</th>\n      <th>day</th>\n      <th>month</th>\n      <th>year</th>\n    </tr>\n  </thead>\n  <tbody>\n    <tr>\n      <th>count</th>\n      <td>365</td>\n      <td>365.000000</td>\n      <td>365.000000</td>\n      <td>365.000000</td>\n      <td>365.000000</td>\n      <td>365.000000</td>\n      <td>365.0</td>\n    </tr>\n    <tr>\n      <th>mean</th>\n      <td>2011-07-02 00:00:00</td>\n      <td>3096.652055</td>\n      <td>2457.484932</td>\n      <td>5554.136986</td>\n      <td>15.720548</td>\n      <td>6.526027</td>\n      <td>2011.0</td>\n    </tr>\n    <tr>\n      <th>min</th>\n      <td>2011-01-01 00:00:00</td>\n      <td>23.000000</td>\n      <td>14.000000</td>\n      <td>37.000000</td>\n      <td>1.000000</td>\n      <td>1.000000</td>\n      <td>2011.0</td>\n    </tr>\n    <tr>\n      <th>25%</th>\n      <td>2011-04-02 00:00:00</td>\n      <td>1308.000000</td>\n      <td>856.000000</td>\n      <td>2161.000000</td>\n      <td>8.000000</td>\n      <td>4.000000</td>\n      <td>2011.0</td>\n    </tr>\n    <tr>\n      <th>50%</th>\n      <td>2011-07-02 00:00:00</td>\n      <td>2622.000000</td>\n      <td>1798.000000</td>\n      <td>4402.000000</td>\n      <td>16.000000</td>\n      <td>7.000000</td>\n      <td>2011.0</td>\n    </tr>\n    <tr>\n      <th>75%</th>\n      <td>2011-10-01 00:00:00</td>\n      <td>4389.000000</td>\n      <td>3665.000000</td>\n      <td>7936.000000</td>\n      <td>23.000000</td>\n      <td>10.000000</td>\n      <td>2011.0</td>\n    </tr>\n    <tr>\n      <th>max</th>\n      <td>2011-12-31 00:00:00</td>\n      <td>10380.000000</td>\n      <td>8950.000000</td>\n      <td>19330.000000</td>\n      <td>31.000000</td>\n      <td>12.000000</td>\n      <td>2011.0</td>\n    </tr>\n    <tr>\n      <th>std</th>\n      <td>NaN</td>\n      <td>2238.026162</td>\n      <td>1996.839740</td>\n      <td>4224.029892</td>\n      <td>8.808321</td>\n      <td>3.452584</td>\n      <td>0.0</td>\n    </tr>\n  </tbody>\n</table>\n</div>"
     },
     "execution_count": 60,
     "metadata": {},
     "output_type": "execute_result"
    }
   ],
   "source": [
    "df1.describe()"
   ]
  },
  {
   "cell_type": "markdown",
   "metadata": {},
   "source": [
    "Show the total amount of bikers for the whole year"
   ]
  },
  {
   "cell_type": "code",
   "execution_count": 61,
   "metadata": {},
   "outputs": [
    {
     "data": {
      "text/plain": "2027260.0"
     },
     "execution_count": 61,
     "metadata": {},
     "output_type": "execute_result"
    }
   ],
   "source": [
    "df1['gesamt'].sum()"
   ]
  },
  {
   "cell_type": "markdown",
   "source": [
    "Correlation matrix between columns\n"
   ],
   "metadata": {
    "collapsed": false
   }
  },
  {
   "cell_type": "code",
   "execution_count": 63,
   "outputs": [
    {
     "name": "stdout",
     "output_type": "stream",
     "text": [
      "               datum  richtung_1  richtung_2    gesamt       day     month  \\\n",
      "datum       1.000000    0.512314    0.551268  0.532043  0.095131  0.996504   \n",
      "richtung_1  0.512314    1.000000    0.989745  0.997717  0.035918  0.512544   \n",
      "richtung_2  0.551268    0.989745    1.000000  0.997132  0.029324  0.551748   \n",
      "gesamt      0.532043    0.997717    0.997132  1.000000  0.032893  0.532392   \n",
      "day         0.095131    0.035918    0.029324  0.032893  1.000000  0.011893   \n",
      "month       0.996504    0.512544    0.551748  0.532392  0.011893  1.000000   \n",
      "year             NaN         NaN         NaN       NaN       NaN       NaN   \n",
      "\n",
      "            year  \n",
      "datum        NaN  \n",
      "richtung_1   NaN  \n",
      "richtung_2   NaN  \n",
      "gesamt       NaN  \n",
      "day          NaN  \n",
      "month        NaN  \n",
      "year         NaN  \n"
     ]
    }
   ],
   "source": [
    "correlation_matrix = df1.corr()\n",
    "print(correlation_matrix)"
   ],
   "metadata": {
    "collapsed": false
   }
  },
  {
   "cell_type": "markdown",
   "source": [
    "Showing the amount of bikers for each month"
   ],
   "metadata": {
    "collapsed": false
   }
  },
  {
   "cell_type": "code",
   "execution_count": 64,
   "metadata": {},
   "outputs": [
    {
     "name": "stdout",
     "output_type": "stream",
     "text": [
      "The month with the highest total bikers is: August\n"
     ]
    }
   ],
   "source": [
    "dg = df1.groupby(pd.Grouper(key='datum', freq='M')).sum()\n",
    "max_month = dg['gesamt'].idxmax()\n",
    "print(f\"The month with the highest total bikers is: {max_month.strftime('%B')}\")"
   ]
  },
  {
   "cell_type": "markdown",
   "metadata": {},
   "source": [
    "#### 3.2 correlation between the total number of bikers and the difference between bikers richtung_1 and richtung_2"
   ]
  },
  {
   "cell_type": "code",
   "execution_count": 65,
   "metadata": {},
   "outputs": [
    {
     "name": "stdout",
     "output_type": "stream",
     "text": [
      "The correlation coefficient is 0.62.\n",
      "Intel MKL WARNING: Support of Intel(R) Streaming SIMD Extensions 4.2 (Intel(R) SSE4.2) enabled only processors has been deprecated. Intel oneAPI Math Kernel Library 2025.0 will require Intel(R) Advanced Vector Extensions (Intel(R) AVX) instructions.\n"
     ]
    }
   ],
   "source": [
    "correlation = df1['gesamt'].corr(df1['richtung_1'] - df1['richtung_2'])\n",
    "print(f\"The correlation coefficient is {correlation:.2f}.\")"
   ]
  },
  {
   "cell_type": "markdown",
   "metadata": {},
   "source": [
    "#### 3.3 find the day with the lowest total bikers for each month"
   ]
  },
  {
   "cell_type": "code",
   "execution_count": 67,
   "metadata": {},
   "outputs": [
    {
     "name": "stdout",
     "output_type": "stream",
     "text": [
      "     month  day  gesamt\n",
      "3        1    4    37.0\n",
      "31       2    1   558.0\n",
      "85       3   27   512.0\n",
      "93       4    4  1685.0\n",
      "146      5   27  1516.0\n",
      "168      6   18   733.0\n",
      "203      7   23  2256.0\n",
      "218      8    7  3221.0\n",
      "260      9   18  1711.0\n",
      "280     10    8  2460.0\n",
      "329     11   26  3322.0\n",
      "358     12   25   830.0\n"
     ]
    }
   ],
   "source": [
    "lowest_bikers_per_month = df1.groupby(df1['datum'].dt.to_period(\"M\"))['gesamt'].idxmin()\n",
    "result_df = df1.loc[lowest_bikers_per_month]\n",
    "print(result_df[['month', 'day', 'gesamt']])"
   ]
  },
  {
   "cell_type": "markdown",
   "source": [
    "This will resample the DataFrame df1 by month and sum the values for each month. The result will include the total bikers for each month.\n"
   ],
   "metadata": {
    "collapsed": false
   }
  },
  {
   "cell_type": "code",
   "execution_count": 86,
   "outputs": [
    {
     "data": {
      "text/plain": "            richtung_1  richtung_2    gesamt\ndatum                                       \n2011-01-31     14220.0      9351.0   23571.0\n2011-02-28     21554.0     13185.0   34739.0\n2011-03-31     42503.0     26141.0   68644.0\n2011-04-30     67099.0     42703.0  109802.0\n2011-05-31     84903.0     53841.0  138744.0\n2011-06-30     73183.0     48762.0  121945.0\n2011-07-31    136483.0    108274.0  244757.0\n2011-08-31    208900.0    180066.0  388966.0\n2011-09-30    172675.0    150474.0  323149.0\n2011-10-31    136092.0    117403.0  253495.0\n2011-11-30    112598.0     96514.0  209112.0\n2011-12-31     60068.0     50268.0  110336.0",
      "text/html": "<div>\n<style scoped>\n    .dataframe tbody tr th:only-of-type {\n        vertical-align: middle;\n    }\n\n    .dataframe tbody tr th {\n        vertical-align: top;\n    }\n\n    .dataframe thead th {\n        text-align: right;\n    }\n</style>\n<table border=\"1\" class=\"dataframe\">\n  <thead>\n    <tr style=\"text-align: right;\">\n      <th></th>\n      <th>richtung_1</th>\n      <th>richtung_2</th>\n      <th>gesamt</th>\n    </tr>\n    <tr>\n      <th>datum</th>\n      <th></th>\n      <th></th>\n      <th></th>\n    </tr>\n  </thead>\n  <tbody>\n    <tr>\n      <th>2011-01-31</th>\n      <td>14220.0</td>\n      <td>9351.0</td>\n      <td>23571.0</td>\n    </tr>\n    <tr>\n      <th>2011-02-28</th>\n      <td>21554.0</td>\n      <td>13185.0</td>\n      <td>34739.0</td>\n    </tr>\n    <tr>\n      <th>2011-03-31</th>\n      <td>42503.0</td>\n      <td>26141.0</td>\n      <td>68644.0</td>\n    </tr>\n    <tr>\n      <th>2011-04-30</th>\n      <td>67099.0</td>\n      <td>42703.0</td>\n      <td>109802.0</td>\n    </tr>\n    <tr>\n      <th>2011-05-31</th>\n      <td>84903.0</td>\n      <td>53841.0</td>\n      <td>138744.0</td>\n    </tr>\n    <tr>\n      <th>2011-06-30</th>\n      <td>73183.0</td>\n      <td>48762.0</td>\n      <td>121945.0</td>\n    </tr>\n    <tr>\n      <th>2011-07-31</th>\n      <td>136483.0</td>\n      <td>108274.0</td>\n      <td>244757.0</td>\n    </tr>\n    <tr>\n      <th>2011-08-31</th>\n      <td>208900.0</td>\n      <td>180066.0</td>\n      <td>388966.0</td>\n    </tr>\n    <tr>\n      <th>2011-09-30</th>\n      <td>172675.0</td>\n      <td>150474.0</td>\n      <td>323149.0</td>\n    </tr>\n    <tr>\n      <th>2011-10-31</th>\n      <td>136092.0</td>\n      <td>117403.0</td>\n      <td>253495.0</td>\n    </tr>\n    <tr>\n      <th>2011-11-30</th>\n      <td>112598.0</td>\n      <td>96514.0</td>\n      <td>209112.0</td>\n    </tr>\n    <tr>\n      <th>2011-12-31</th>\n      <td>60068.0</td>\n      <td>50268.0</td>\n      <td>110336.0</td>\n    </tr>\n  </tbody>\n</table>\n</div>"
     },
     "execution_count": 86,
     "metadata": {},
     "output_type": "execute_result"
    }
   ],
   "source": [
    "df1.resample('M', on='datum').sum()"
   ],
   "metadata": {
    "collapsed": false
   }
  },
  {
   "cell_type": "markdown",
   "source": [
    "This will resample the DataFrame by month, summing the values for each month, and then sort the result based on the total bikers in descending order."
   ],
   "metadata": {
    "collapsed": false
   }
  },
  {
   "cell_type": "code",
   "execution_count": 91,
   "outputs": [
    {
     "data": {
      "text/plain": "            richtung_1  richtung_2    gesamt\ndatum                                       \n2011-08-31    208900.0    180066.0  388966.0\n2011-09-30    172675.0    150474.0  323149.0\n2011-10-31    136092.0    117403.0  253495.0\n2011-07-31    136483.0    108274.0  244757.0\n2011-11-30    112598.0     96514.0  209112.0\n2011-05-31     84903.0     53841.0  138744.0\n2011-06-30     73183.0     48762.0  121945.0\n2011-12-31     60068.0     50268.0  110336.0\n2011-04-30     67099.0     42703.0  109802.0\n2011-03-31     42503.0     26141.0   68644.0\n2011-02-28     21554.0     13185.0   34739.0\n2011-01-31     14220.0      9351.0   23571.0",
      "text/html": "<div>\n<style scoped>\n    .dataframe tbody tr th:only-of-type {\n        vertical-align: middle;\n    }\n\n    .dataframe tbody tr th {\n        vertical-align: top;\n    }\n\n    .dataframe thead th {\n        text-align: right;\n    }\n</style>\n<table border=\"1\" class=\"dataframe\">\n  <thead>\n    <tr style=\"text-align: right;\">\n      <th></th>\n      <th>richtung_1</th>\n      <th>richtung_2</th>\n      <th>gesamt</th>\n    </tr>\n    <tr>\n      <th>datum</th>\n      <th></th>\n      <th></th>\n      <th></th>\n    </tr>\n  </thead>\n  <tbody>\n    <tr>\n      <th>2011-08-31</th>\n      <td>208900.0</td>\n      <td>180066.0</td>\n      <td>388966.0</td>\n    </tr>\n    <tr>\n      <th>2011-09-30</th>\n      <td>172675.0</td>\n      <td>150474.0</td>\n      <td>323149.0</td>\n    </tr>\n    <tr>\n      <th>2011-10-31</th>\n      <td>136092.0</td>\n      <td>117403.0</td>\n      <td>253495.0</td>\n    </tr>\n    <tr>\n      <th>2011-07-31</th>\n      <td>136483.0</td>\n      <td>108274.0</td>\n      <td>244757.0</td>\n    </tr>\n    <tr>\n      <th>2011-11-30</th>\n      <td>112598.0</td>\n      <td>96514.0</td>\n      <td>209112.0</td>\n    </tr>\n    <tr>\n      <th>2011-05-31</th>\n      <td>84903.0</td>\n      <td>53841.0</td>\n      <td>138744.0</td>\n    </tr>\n    <tr>\n      <th>2011-06-30</th>\n      <td>73183.0</td>\n      <td>48762.0</td>\n      <td>121945.0</td>\n    </tr>\n    <tr>\n      <th>2011-12-31</th>\n      <td>60068.0</td>\n      <td>50268.0</td>\n      <td>110336.0</td>\n    </tr>\n    <tr>\n      <th>2011-04-30</th>\n      <td>67099.0</td>\n      <td>42703.0</td>\n      <td>109802.0</td>\n    </tr>\n    <tr>\n      <th>2011-03-31</th>\n      <td>42503.0</td>\n      <td>26141.0</td>\n      <td>68644.0</td>\n    </tr>\n    <tr>\n      <th>2011-02-28</th>\n      <td>21554.0</td>\n      <td>13185.0</td>\n      <td>34739.0</td>\n    </tr>\n    <tr>\n      <th>2011-01-31</th>\n      <td>14220.0</td>\n      <td>9351.0</td>\n      <td>23571.0</td>\n    </tr>\n  </tbody>\n</table>\n</div>"
     },
     "execution_count": 91,
     "metadata": {},
     "output_type": "execute_result"
    }
   ],
   "source": [
    "df1.resample('M', on='datum').sum().sort_values('gesamt', ascending=False)"
   ],
   "metadata": {
    "collapsed": false
   }
  },
  {
   "cell_type": "markdown",
   "metadata": {},
   "source": [
    "### 4. Data exploration for Dataset 2:  Meteostat Munich Weather Data"
   ]
  },
  {
   "cell_type": "markdown",
   "metadata": {},
   "source": [
    "Showing information about the indices and there datatypes"
   ]
  },
  {
   "cell_type": "code",
   "execution_count": 68,
   "metadata": {},
   "outputs": [
    {
     "name": "stdout",
     "output_type": "stream",
     "text": [
      "<class 'pandas.core.frame.DataFrame'>\n",
      "Index: 365 entries, 0 to 364\n",
      "Data columns (total 11 columns):\n",
      " #   Column                Non-Null Count  Dtype         \n",
      "---  ------                --------------  -----         \n",
      " 0   Date                  365 non-null    datetime64[ns]\n",
      " 1   Average temperature   365 non-null    float64       \n",
      " 2   Min temperature       365 non-null    float64       \n",
      " 3   Max temperature       365 non-null    float64       \n",
      " 4   Total rainfall        365 non-null    float64       \n",
      " 5   Snow-level            365 non-null    float64       \n",
      " 6   Wind-direction        365 non-null    float64       \n",
      " 7   Wind-speed            365 non-null    float64       \n",
      " 8   Lace boe              365 non-null    float64       \n",
      " 9   Air pressure          365 non-null    float64       \n",
      " 10  Duration of sunshine  365 non-null    float64       \n",
      "dtypes: datetime64[ns](1), float64(10)\n",
      "memory usage: 34.2 KB\n"
     ]
    }
   ],
   "source": [
    "df2.info()"
   ]
  },
  {
   "cell_type": "markdown",
   "metadata": {},
   "source": [
    "Showing the different columns the dataframe has"
   ]
  },
  {
   "cell_type": "code",
   "execution_count": 69,
   "metadata": {},
   "outputs": [
    {
     "data": {
      "text/plain": "Index(['Date', 'Average temperature', 'Min temperature', 'Max temperature',\n       'Total rainfall', 'Snow-level', 'Wind-direction', 'Wind-speed',\n       'Lace boe', 'Air pressure', 'Duration of sunshine'],\n      dtype='object')"
     },
     "execution_count": 69,
     "metadata": {},
     "output_type": "execute_result"
    }
   ],
   "source": [
    "df2.columns"
   ]
  },
  {
   "cell_type": "code",
   "execution_count": 73,
   "metadata": {},
   "outputs": [],
   "source": [
    "df2.rename(columns = {'temp':'Average temperature'},inplace =True)\n",
    "df2.rename(columns = {'dwpt':'Min temperature'},inplace =True)\n",
    "df2.rename(columns = {'rhum':'Max temperature'},inplace =True)\n",
    "df2.rename(columns = {'prcp':'Total rainfall'},inplace =True)\n",
    "df2.rename(columns = {'snow':'Snow-level'},inplace =True)\n",
    "df2.rename(columns = {'wdir':'Wind-direction'},inplace =True)\n",
    "df2.rename(columns = {'wspd':'Wind-speed'},inplace =True)\n",
    "df2.rename(columns = {'wpgt':'Lace boe'},inplace =True)\n",
    "df2.rename(columns = {'pres':'Air pressure'},inplace =True)\n",
    "df2.rename(columns = {'tsun':'Duration of sunshine'},inplace =True)"
   ]
  },
  {
   "cell_type": "code",
   "execution_count": 74,
   "metadata": {},
   "outputs": [
    {
     "data": {
      "text/plain": "     Average temperature  Min temperature  Max temperature  Total rainfall  \\\n0                    9.1              6.9             12.0             0.2   \n1                    7.9              5.3             11.9             0.9   \n2                    5.9              3.4              9.7             2.4   \n3                    5.5              1.7             10.7             3.8   \n4                    4.5              1.0              7.4             8.1   \n..                   ...              ...              ...             ...   \n361                  7.6              5.6              9.5             5.8   \n362                  4.0              1.7              6.3             3.8   \n363                  4.2              0.4              9.4             0.0   \n364                  6.5              1.3              9.5             0.0   \n365                  4.8              0.0              8.0             0.0   \n\n     Snow-level  Wind-direction  Wind-speed  Lace boe  Air pressure  \\\n0           0.0           244.0        14.0      40.0        1017.6   \n1           0.0           220.0        13.0      54.7        1014.6   \n2           0.0           232.0        13.3      56.9        1022.0   \n3           0.0           263.0        24.1      67.3        1018.4   \n4           0.0           252.0        32.4     100.4        1001.6   \n..          ...             ...         ...       ...           ...   \n361         0.0           245.0        20.5      65.2        1011.9   \n362         0.0           254.0        14.4      56.5        1026.3   \n363         0.0           143.0         8.3      22.3        1023.1   \n364         0.0           243.0        16.6      57.6        1022.4   \n365         0.0           199.0         9.7      33.1        1022.0   \n\n     Duration of sunshine  \n0                    60.0  \n1                     0.0  \n2                   462.0  \n3                    24.0  \n4                     0.0  \n..                    ...  \n361                   0.0  \n362                  12.0  \n363                 354.0  \n364                 216.0  \n365                 204.0  \n\n[366 rows x 10 columns]",
      "text/html": "<div>\n<style scoped>\n    .dataframe tbody tr th:only-of-type {\n        vertical-align: middle;\n    }\n\n    .dataframe tbody tr th {\n        vertical-align: top;\n    }\n\n    .dataframe thead th {\n        text-align: right;\n    }\n</style>\n<table border=\"1\" class=\"dataframe\">\n  <thead>\n    <tr style=\"text-align: right;\">\n      <th></th>\n      <th>Average temperature</th>\n      <th>Min temperature</th>\n      <th>Max temperature</th>\n      <th>Total rainfall</th>\n      <th>Snow-level</th>\n      <th>Wind-direction</th>\n      <th>Wind-speed</th>\n      <th>Lace boe</th>\n      <th>Air pressure</th>\n      <th>Duration of sunshine</th>\n    </tr>\n  </thead>\n  <tbody>\n    <tr>\n      <th>0</th>\n      <td>9.1</td>\n      <td>6.9</td>\n      <td>12.0</td>\n      <td>0.2</td>\n      <td>0.0</td>\n      <td>244.0</td>\n      <td>14.0</td>\n      <td>40.0</td>\n      <td>1017.6</td>\n      <td>60.0</td>\n    </tr>\n    <tr>\n      <th>1</th>\n      <td>7.9</td>\n      <td>5.3</td>\n      <td>11.9</td>\n      <td>0.9</td>\n      <td>0.0</td>\n      <td>220.0</td>\n      <td>13.0</td>\n      <td>54.7</td>\n      <td>1014.6</td>\n      <td>0.0</td>\n    </tr>\n    <tr>\n      <th>2</th>\n      <td>5.9</td>\n      <td>3.4</td>\n      <td>9.7</td>\n      <td>2.4</td>\n      <td>0.0</td>\n      <td>232.0</td>\n      <td>13.3</td>\n      <td>56.9</td>\n      <td>1022.0</td>\n      <td>462.0</td>\n    </tr>\n    <tr>\n      <th>3</th>\n      <td>5.5</td>\n      <td>1.7</td>\n      <td>10.7</td>\n      <td>3.8</td>\n      <td>0.0</td>\n      <td>263.0</td>\n      <td>24.1</td>\n      <td>67.3</td>\n      <td>1018.4</td>\n      <td>24.0</td>\n    </tr>\n    <tr>\n      <th>4</th>\n      <td>4.5</td>\n      <td>1.0</td>\n      <td>7.4</td>\n      <td>8.1</td>\n      <td>0.0</td>\n      <td>252.0</td>\n      <td>32.4</td>\n      <td>100.4</td>\n      <td>1001.6</td>\n      <td>0.0</td>\n    </tr>\n    <tr>\n      <th>...</th>\n      <td>...</td>\n      <td>...</td>\n      <td>...</td>\n      <td>...</td>\n      <td>...</td>\n      <td>...</td>\n      <td>...</td>\n      <td>...</td>\n      <td>...</td>\n      <td>...</td>\n    </tr>\n    <tr>\n      <th>361</th>\n      <td>7.6</td>\n      <td>5.6</td>\n      <td>9.5</td>\n      <td>5.8</td>\n      <td>0.0</td>\n      <td>245.0</td>\n      <td>20.5</td>\n      <td>65.2</td>\n      <td>1011.9</td>\n      <td>0.0</td>\n    </tr>\n    <tr>\n      <th>362</th>\n      <td>4.0</td>\n      <td>1.7</td>\n      <td>6.3</td>\n      <td>3.8</td>\n      <td>0.0</td>\n      <td>254.0</td>\n      <td>14.4</td>\n      <td>56.5</td>\n      <td>1026.3</td>\n      <td>12.0</td>\n    </tr>\n    <tr>\n      <th>363</th>\n      <td>4.2</td>\n      <td>0.4</td>\n      <td>9.4</td>\n      <td>0.0</td>\n      <td>0.0</td>\n      <td>143.0</td>\n      <td>8.3</td>\n      <td>22.3</td>\n      <td>1023.1</td>\n      <td>354.0</td>\n    </tr>\n    <tr>\n      <th>364</th>\n      <td>6.5</td>\n      <td>1.3</td>\n      <td>9.5</td>\n      <td>0.0</td>\n      <td>0.0</td>\n      <td>243.0</td>\n      <td>16.6</td>\n      <td>57.6</td>\n      <td>1022.4</td>\n      <td>216.0</td>\n    </tr>\n    <tr>\n      <th>365</th>\n      <td>4.8</td>\n      <td>0.0</td>\n      <td>8.0</td>\n      <td>0.0</td>\n      <td>0.0</td>\n      <td>199.0</td>\n      <td>9.7</td>\n      <td>33.1</td>\n      <td>1022.0</td>\n      <td>204.0</td>\n    </tr>\n  </tbody>\n</table>\n<p>366 rows × 10 columns</p>\n</div>"
     },
     "execution_count": 74,
     "metadata": {},
     "output_type": "execute_result"
    }
   ],
   "source": [
    "df2"
   ]
  },
  {
   "cell_type": "markdown",
   "metadata": {},
   "source": [
    "These operations will help us analyze the data and understand its distribution, central tendency, variability, and relationships between columns."
   ]
  },
  {
   "cell_type": "code",
   "execution_count": 50,
   "metadata": {},
   "outputs": [
    {
     "data": {
      "text/plain": "                      Date  Average temperature  Min temperature  \\\ncount                  365           365.000000       365.000000   \nmean   2011-07-02 00:00:00            10.215890         6.065479   \nmin    2011-01-01 00:00:00           -12.600000       -16.600000   \n25%    2011-04-02 00:00:00             4.800000         1.300000   \n50%    2011-07-02 00:00:00            10.400000         6.100000   \n75%    2011-10-01 00:00:00            17.300000        11.900000   \nmax    2011-12-31 00:00:00            26.500000        20.400000   \nstd                    NaN             8.299008         7.307591   \n\n       Max temperature  Total rainfall  Snow-level  Wind-direction  \\\ncount       365.000000      365.000000  365.000000      365.000000   \nmean         14.723562        2.640000   16.100328      193.401141   \nmin          -9.700000        0.000000    0.000000        0.000000   \n25%           7.700000        0.000000    0.000000       97.000000   \n50%          15.500000        0.200000   16.056338      227.000000   \n75%          22.500000        2.800000   16.056338      267.000000   \nmax          34.700000       46.300000  200.000000      359.000000   \nstd           9.659386        5.413373   28.440646       94.151028   \n\n       Wind-speed    Lace boe  Air pressure  Duration of sunshine  \ncount  365.000000  365.000000    365.000000            365.000000  \nmean    10.178904   35.287671   1017.097534            312.805479  \nmin      4.300000   11.900000    993.200000              0.000000  \n25%      7.200000   24.100000   1011.800000             36.000000  \n50%      9.400000   32.400000   1016.800000            288.000000  \n75%     11.500000   43.900000   1022.400000            534.000000  \nmax     32.400000  100.400000   1037.800000            912.000000  \nstd      4.170819   14.326061      8.191544            272.399670  ",
      "text/html": "<div>\n<style scoped>\n    .dataframe tbody tr th:only-of-type {\n        vertical-align: middle;\n    }\n\n    .dataframe tbody tr th {\n        vertical-align: top;\n    }\n\n    .dataframe thead th {\n        text-align: right;\n    }\n</style>\n<table border=\"1\" class=\"dataframe\">\n  <thead>\n    <tr style=\"text-align: right;\">\n      <th></th>\n      <th>Date</th>\n      <th>Average temperature</th>\n      <th>Min temperature</th>\n      <th>Max temperature</th>\n      <th>Total rainfall</th>\n      <th>Snow-level</th>\n      <th>Wind-direction</th>\n      <th>Wind-speed</th>\n      <th>Lace boe</th>\n      <th>Air pressure</th>\n      <th>Duration of sunshine</th>\n    </tr>\n  </thead>\n  <tbody>\n    <tr>\n      <th>count</th>\n      <td>365</td>\n      <td>365.000000</td>\n      <td>365.000000</td>\n      <td>365.000000</td>\n      <td>365.000000</td>\n      <td>365.000000</td>\n      <td>365.000000</td>\n      <td>365.000000</td>\n      <td>365.000000</td>\n      <td>365.000000</td>\n      <td>365.000000</td>\n    </tr>\n    <tr>\n      <th>mean</th>\n      <td>2011-07-02 00:00:00</td>\n      <td>10.215890</td>\n      <td>6.065479</td>\n      <td>14.723562</td>\n      <td>2.640000</td>\n      <td>16.100328</td>\n      <td>193.401141</td>\n      <td>10.178904</td>\n      <td>35.287671</td>\n      <td>1017.097534</td>\n      <td>312.805479</td>\n    </tr>\n    <tr>\n      <th>min</th>\n      <td>2011-01-01 00:00:00</td>\n      <td>-12.600000</td>\n      <td>-16.600000</td>\n      <td>-9.700000</td>\n      <td>0.000000</td>\n      <td>0.000000</td>\n      <td>0.000000</td>\n      <td>4.300000</td>\n      <td>11.900000</td>\n      <td>993.200000</td>\n      <td>0.000000</td>\n    </tr>\n    <tr>\n      <th>25%</th>\n      <td>2011-04-02 00:00:00</td>\n      <td>4.800000</td>\n      <td>1.300000</td>\n      <td>7.700000</td>\n      <td>0.000000</td>\n      <td>0.000000</td>\n      <td>97.000000</td>\n      <td>7.200000</td>\n      <td>24.100000</td>\n      <td>1011.800000</td>\n      <td>36.000000</td>\n    </tr>\n    <tr>\n      <th>50%</th>\n      <td>2011-07-02 00:00:00</td>\n      <td>10.400000</td>\n      <td>6.100000</td>\n      <td>15.500000</td>\n      <td>0.200000</td>\n      <td>16.056338</td>\n      <td>227.000000</td>\n      <td>9.400000</td>\n      <td>32.400000</td>\n      <td>1016.800000</td>\n      <td>288.000000</td>\n    </tr>\n    <tr>\n      <th>75%</th>\n      <td>2011-10-01 00:00:00</td>\n      <td>17.300000</td>\n      <td>11.900000</td>\n      <td>22.500000</td>\n      <td>2.800000</td>\n      <td>16.056338</td>\n      <td>267.000000</td>\n      <td>11.500000</td>\n      <td>43.900000</td>\n      <td>1022.400000</td>\n      <td>534.000000</td>\n    </tr>\n    <tr>\n      <th>max</th>\n      <td>2011-12-31 00:00:00</td>\n      <td>26.500000</td>\n      <td>20.400000</td>\n      <td>34.700000</td>\n      <td>46.300000</td>\n      <td>200.000000</td>\n      <td>359.000000</td>\n      <td>32.400000</td>\n      <td>100.400000</td>\n      <td>1037.800000</td>\n      <td>912.000000</td>\n    </tr>\n    <tr>\n      <th>std</th>\n      <td>NaN</td>\n      <td>8.299008</td>\n      <td>7.307591</td>\n      <td>9.659386</td>\n      <td>5.413373</td>\n      <td>28.440646</td>\n      <td>94.151028</td>\n      <td>4.170819</td>\n      <td>14.326061</td>\n      <td>8.191544</td>\n      <td>272.399670</td>\n    </tr>\n  </tbody>\n</table>\n</div>"
     },
     "execution_count": 50,
     "metadata": {},
     "output_type": "execute_result"
    }
   ],
   "source": [
    "df2.describe()"
   ]
  },
  {
   "cell_type": "markdown",
   "source": [
    "#### 4.1 Showing the 8 rows with the largest values in the 'Min temperature' column of the DataFrame df2."
   ],
   "metadata": {
    "collapsed": false
   }
  },
  {
   "cell_type": "code",
   "execution_count": 75,
   "outputs": [
    {
     "name": "stdout",
     "output_type": "stream",
     "text": [
      "     Average temperature  Min temperature  Max temperature  Total rainfall  \\\n",
      "181                 26.1             20.4             32.5             0.0   \n",
      "234                 24.4             20.1             29.3             5.5   \n",
      "209                 23.1             19.5             27.1             0.9   \n",
      "180                 24.8             18.0             32.0             0.6   \n",
      "233                 24.9             18.0             32.0             0.3   \n",
      "236                 21.2             17.9             26.0             9.5   \n",
      "216                 21.7             17.7             26.8             0.3   \n",
      "171                 20.7             17.6             26.9            46.3   \n",
      "\n",
      "     Snow-level  Wind-direction  Wind-speed  Lace boe  Air pressure  \\\n",
      "181         NaN            64.0        10.4      63.4        1010.4   \n",
      "234         NaN           271.0        11.2      42.5        1014.9   \n",
      "209         NaN           211.0         9.4      35.3        1009.8   \n",
      "180         NaN           171.0         9.7      41.4        1010.1   \n",
      "233         NaN           159.0         7.6      41.0        1017.1   \n",
      "236         NaN           222.0        11.5      40.0        1010.6   \n",
      "216         NaN            99.0         9.0      25.2        1013.4   \n",
      "171         NaN           276.0         9.0      59.8        1012.9   \n",
      "\n",
      "     Duration of sunshine  \n",
      "181                 792.0  \n",
      "234                 582.0  \n",
      "209                 288.0  \n",
      "180                 618.0  \n",
      "233                 720.0  \n",
      "236                  66.0  \n",
      "216                 414.0  \n",
      "171                 216.0  \n"
     ]
    }
   ],
   "source": [
    "result = df2.nlargest(8, 'Min temperature')\n",
    "print(result)"
   ],
   "metadata": {
    "collapsed": false
   }
  },
  {
   "cell_type": "markdown",
   "source": [
    "#### 4.2 Showing the first 10 rows with the highest values in the 'Wind-speed' column of the DataFrame df2."
   ],
   "metadata": {
    "collapsed": false
   }
  },
  {
   "cell_type": "code",
   "execution_count": 76,
   "outputs": [
    {
     "name": "stdout",
     "output_type": "stream",
     "text": [
      "     Average temperature  Min temperature  Max temperature  Total rainfall  \\\n",
      "4                    4.5              1.0              7.4             8.1   \n",
      "18                   7.1              4.5              9.5            16.5   \n",
      "21                   5.3              2.7              7.2             1.4   \n",
      "45                   0.3             -1.2              1.4             4.1   \n",
      "357                 10.8              4.1             13.2             0.0   \n",
      "3                    5.5              1.7             10.7             3.8   \n",
      "6                    2.4              1.2              3.8            11.1   \n",
      "5                    1.6              0.1              2.6             2.3   \n",
      "12                   2.1             -0.6              4.0             1.3   \n",
      "20                   3.1             -0.5              8.7             9.7   \n",
      "\n",
      "     Snow-level  Wind-direction  Wind-speed  Lace boe  Air pressure  \\\n",
      "4           0.0           252.0        32.4     100.4        1001.6   \n",
      "18          0.0           255.0        30.6      83.5        1021.0   \n",
      "21          0.0           275.0        28.8      78.1        1011.7   \n",
      "45        200.0           272.0        28.1      70.9        1010.5   \n",
      "357         0.0           247.0        27.7      72.4        1013.0   \n",
      "3           0.0           263.0        24.1      67.3        1018.4   \n",
      "6           0.0           262.0        23.4      62.3        1020.6   \n",
      "5           0.0           286.0        22.3      65.2        1014.0   \n",
      "12          0.0           277.0        22.0      63.4        1025.5   \n",
      "20         60.0           256.0        20.9      83.2        1013.6   \n",
      "\n",
      "     Duration of sunshine  \n",
      "4                     0.0  \n",
      "18                    0.0  \n",
      "21                   66.0  \n",
      "45                    0.0  \n",
      "357                   0.0  \n",
      "3                    24.0  \n",
      "6                     0.0  \n",
      "5                     6.0  \n",
      "12                  168.0  \n",
      "20                    6.0  \n"
     ]
    }
   ],
   "source": [
    "result = df2.nlargest(10, 'Wind-speed')\n",
    "print(result)"
   ],
   "metadata": {
    "collapsed": false
   }
  },
  {
   "cell_type": "markdown",
   "source": [
    "#### 4.3 Showing the first 10 rows with the lowest values in the 'Wind-speed' column of the DataFrame df2."
   ],
   "metadata": {
    "collapsed": false
   }
  },
  {
   "cell_type": "code",
   "execution_count": 77,
   "outputs": [
    {
     "name": "stdout",
     "output_type": "stream",
     "text": [
      "     Average temperature  Min temperature  Max temperature  Total rainfall  \\\n",
      "322                  2.8             -0.9              8.7             0.0   \n",
      "321                  1.6             -0.8              5.2             0.0   \n",
      "51                  -2.2             -6.5              3.2             0.0   \n",
      "326                  5.0              0.9              7.1             0.8   \n",
      "328                  6.4              2.8             11.3             0.0   \n",
      "26                  -0.6             -2.8              1.6             3.5   \n",
      "68                   2.7             -1.0              7.7             0.0   \n",
      "75                  11.7              1.5             21.8             0.0   \n",
      "221                 18.6             12.6             24.8             0.0   \n",
      "283                  8.9              6.6             11.0             2.9   \n",
      "\n",
      "     Snow-level  Wind-direction  Wind-speed  Lace boe  Air pressure  \\\n",
      "322         0.0            84.0         4.3      11.9        1015.8   \n",
      "321         0.0            95.0         4.7      12.6        1016.7   \n",
      "51         70.0           310.0         5.0      15.5        1033.9   \n",
      "326         0.0            85.0         5.0      18.4        1025.0   \n",
      "328         0.0            80.0         5.0      26.6        1020.5   \n",
      "26         30.0            71.0         5.4      14.0        1024.6   \n",
      "68          0.0           284.0         5.4      18.4        1037.8   \n",
      "75          0.0           203.0         5.4      19.8        1024.2   \n",
      "221         NaN             8.0         5.4      20.9        1022.9   \n",
      "283         0.0            39.0         5.4      16.2        1014.6   \n",
      "\n",
      "     Duration of sunshine  \n",
      "322                 288.0  \n",
      "321                 318.0  \n",
      "51                  582.0  \n",
      "326                   0.0  \n",
      "328                 300.0  \n",
      "26                    0.0  \n",
      "68                  348.0  \n",
      "75                  684.0  \n",
      "221                 594.0  \n",
      "283                   0.0  \n"
     ]
    }
   ],
   "source": [
    "result = df2.nsmallest(10, 'Wind-speed')\n",
    "print(result)"
   ],
   "metadata": {
    "collapsed": false
   }
  },
  {
   "cell_type": "markdown",
   "source": [
    "#### 4.4 Showing the first 5 rows with the lowest values in the 'Air pressure' column of the DataFrame df2."
   ],
   "metadata": {
    "collapsed": false
   }
  },
  {
   "cell_type": "code",
   "execution_count": 79,
   "outputs": [
    {
     "name": "stdout",
     "output_type": "stream",
     "text": [
      "     Average temperature  Min temperature  Max temperature  Total rainfall  \\\n",
      "109                 10.6              5.0             16.8             1.8   \n",
      "305                  7.3              3.2             12.8             2.6   \n",
      "141                 19.7             13.9             25.6             0.0   \n",
      "300                  2.2             -1.4              5.6            19.1   \n",
      "333                  1.3              0.5              4.3             9.9   \n",
      "\n",
      "     Snow-level  Wind-direction  Wind-speed  Lace boe  Air pressure  \\\n",
      "109         0.0           135.0         8.6      41.4         993.2   \n",
      "305         0.0           247.0         9.4      31.0         993.3   \n",
      "141         NaN           104.0        11.2      44.3         997.0   \n",
      "300         0.0           359.0        11.2      32.8         997.8   \n",
      "333         0.0           261.0        15.1      45.0         997.9   \n",
      "\n",
      "     Duration of sunshine  \n",
      "109                 612.0  \n",
      "305                 156.0  \n",
      "141                 360.0  \n",
      "300                   0.0  \n",
      "333                   0.0  \n"
     ]
    }
   ],
   "source": [
    "result = df2.nsmallest(5, 'Air pressure')\n",
    "print(result)"
   ],
   "metadata": {
    "collapsed": false
   }
  },
  {
   "cell_type": "markdown",
   "source": [
    "#### 4.5 Showing the first 5 days on which the daily Max temperature is the lowest."
   ],
   "metadata": {
    "collapsed": false
   }
  },
  {
   "cell_type": "code",
   "execution_count": 81,
   "outputs": [
    {
     "data": {
      "text/plain": "    Average temperature  Min temperature  Max temperature  Total rainfall  \\\n37                -11.6            -13.2             -9.7             1.3   \n36                -12.6            -16.1             -9.4             1.1   \n34                -12.0            -15.0             -9.1             0.0   \n33                -11.6            -13.9             -8.4             0.0   \n40                 -9.5            -10.4             -8.4             0.3   \n\n    Snow-level  Wind-direction  Wind-speed  Lace boe  Air pressure  \\\n37        60.0            25.0        10.4      32.0        1033.0   \n36        50.0            53.0         7.2      19.4        1033.9   \n34        40.0            63.0         9.7      27.7        1036.3   \n33        40.0            43.0        11.2      31.3        1032.1   \n40       110.0            47.0        10.4      32.0        1034.9   \n\n    Duration of sunshine  \n37                  30.0  \n36                 186.0  \n34                 396.0  \n33                 504.0  \n40                 120.0  ",
      "text/html": "<div>\n<style scoped>\n    .dataframe tbody tr th:only-of-type {\n        vertical-align: middle;\n    }\n\n    .dataframe tbody tr th {\n        vertical-align: top;\n    }\n\n    .dataframe thead th {\n        text-align: right;\n    }\n</style>\n<table border=\"1\" class=\"dataframe\">\n  <thead>\n    <tr style=\"text-align: right;\">\n      <th></th>\n      <th>Average temperature</th>\n      <th>Min temperature</th>\n      <th>Max temperature</th>\n      <th>Total rainfall</th>\n      <th>Snow-level</th>\n      <th>Wind-direction</th>\n      <th>Wind-speed</th>\n      <th>Lace boe</th>\n      <th>Air pressure</th>\n      <th>Duration of sunshine</th>\n    </tr>\n  </thead>\n  <tbody>\n    <tr>\n      <th>37</th>\n      <td>-11.6</td>\n      <td>-13.2</td>\n      <td>-9.7</td>\n      <td>1.3</td>\n      <td>60.0</td>\n      <td>25.0</td>\n      <td>10.4</td>\n      <td>32.0</td>\n      <td>1033.0</td>\n      <td>30.0</td>\n    </tr>\n    <tr>\n      <th>36</th>\n      <td>-12.6</td>\n      <td>-16.1</td>\n      <td>-9.4</td>\n      <td>1.1</td>\n      <td>50.0</td>\n      <td>53.0</td>\n      <td>7.2</td>\n      <td>19.4</td>\n      <td>1033.9</td>\n      <td>186.0</td>\n    </tr>\n    <tr>\n      <th>34</th>\n      <td>-12.0</td>\n      <td>-15.0</td>\n      <td>-9.1</td>\n      <td>0.0</td>\n      <td>40.0</td>\n      <td>63.0</td>\n      <td>9.7</td>\n      <td>27.7</td>\n      <td>1036.3</td>\n      <td>396.0</td>\n    </tr>\n    <tr>\n      <th>33</th>\n      <td>-11.6</td>\n      <td>-13.9</td>\n      <td>-8.4</td>\n      <td>0.0</td>\n      <td>40.0</td>\n      <td>43.0</td>\n      <td>11.2</td>\n      <td>31.3</td>\n      <td>1032.1</td>\n      <td>504.0</td>\n    </tr>\n    <tr>\n      <th>40</th>\n      <td>-9.5</td>\n      <td>-10.4</td>\n      <td>-8.4</td>\n      <td>0.3</td>\n      <td>110.0</td>\n      <td>47.0</td>\n      <td>10.4</td>\n      <td>32.0</td>\n      <td>1034.9</td>\n      <td>120.0</td>\n    </tr>\n  </tbody>\n</table>\n</div>"
     },
     "execution_count": 81,
     "metadata": {},
     "output_type": "execute_result"
    }
   ],
   "source": [
    "df2.nsmallest(5, 'Max temperature')"
   ],
   "metadata": {
    "collapsed": false
   }
  },
  {
   "cell_type": "markdown",
   "source": [
    "#### 4.6 Showing the first 5 rows with the smallest values in the 'Max temperature' column of the DataFrame df2."
   ],
   "metadata": {
    "collapsed": false
   }
  },
  {
   "cell_type": "code",
   "execution_count": 92,
   "outputs": [
    {
     "data": {
      "text/plain": "    Average temperature  Min temperature  Max temperature  Total rainfall  \\\n42                -12.0            -16.6             -7.1             0.0   \n36                -12.6            -16.1             -9.4             1.1   \n34                -12.0            -15.0             -9.1             0.0   \n43                 -8.2            -14.5             -4.5             3.9   \n35                -11.6            -14.4             -7.5             0.0   \n\n    Snow-level  Wind-direction  Wind-speed  Lace boe  Air pressure  \\\n42       100.0            78.0         6.8      20.5        1031.4   \n36        50.0            53.0         7.2      19.4        1033.9   \n34        40.0            63.0         9.7      27.7        1036.3   \n43       100.0           248.0         9.7      28.8        1025.0   \n35        50.0            79.0        10.4      32.4        1033.9   \n\n    Duration of sunshine  \n42                 534.0  \n36                 186.0  \n34                 396.0  \n43                   0.0  \n35                 492.0  ",
      "text/html": "<div>\n<style scoped>\n    .dataframe tbody tr th:only-of-type {\n        vertical-align: middle;\n    }\n\n    .dataframe tbody tr th {\n        vertical-align: top;\n    }\n\n    .dataframe thead th {\n        text-align: right;\n    }\n</style>\n<table border=\"1\" class=\"dataframe\">\n  <thead>\n    <tr style=\"text-align: right;\">\n      <th></th>\n      <th>Average temperature</th>\n      <th>Min temperature</th>\n      <th>Max temperature</th>\n      <th>Total rainfall</th>\n      <th>Snow-level</th>\n      <th>Wind-direction</th>\n      <th>Wind-speed</th>\n      <th>Lace boe</th>\n      <th>Air pressure</th>\n      <th>Duration of sunshine</th>\n    </tr>\n  </thead>\n  <tbody>\n    <tr>\n      <th>42</th>\n      <td>-12.0</td>\n      <td>-16.6</td>\n      <td>-7.1</td>\n      <td>0.0</td>\n      <td>100.0</td>\n      <td>78.0</td>\n      <td>6.8</td>\n      <td>20.5</td>\n      <td>1031.4</td>\n      <td>534.0</td>\n    </tr>\n    <tr>\n      <th>36</th>\n      <td>-12.6</td>\n      <td>-16.1</td>\n      <td>-9.4</td>\n      <td>1.1</td>\n      <td>50.0</td>\n      <td>53.0</td>\n      <td>7.2</td>\n      <td>19.4</td>\n      <td>1033.9</td>\n      <td>186.0</td>\n    </tr>\n    <tr>\n      <th>34</th>\n      <td>-12.0</td>\n      <td>-15.0</td>\n      <td>-9.1</td>\n      <td>0.0</td>\n      <td>40.0</td>\n      <td>63.0</td>\n      <td>9.7</td>\n      <td>27.7</td>\n      <td>1036.3</td>\n      <td>396.0</td>\n    </tr>\n    <tr>\n      <th>43</th>\n      <td>-8.2</td>\n      <td>-14.5</td>\n      <td>-4.5</td>\n      <td>3.9</td>\n      <td>100.0</td>\n      <td>248.0</td>\n      <td>9.7</td>\n      <td>28.8</td>\n      <td>1025.0</td>\n      <td>0.0</td>\n    </tr>\n    <tr>\n      <th>35</th>\n      <td>-11.6</td>\n      <td>-14.4</td>\n      <td>-7.5</td>\n      <td>0.0</td>\n      <td>50.0</td>\n      <td>79.0</td>\n      <td>10.4</td>\n      <td>32.4</td>\n      <td>1033.9</td>\n      <td>492.0</td>\n    </tr>\n  </tbody>\n</table>\n</div>"
     },
     "execution_count": 92,
     "metadata": {},
     "output_type": "execute_result"
    }
   ],
   "source": [
    "df2.sort_values(['Min temperature'], ascending=[True]).head(5)\n"
   ],
   "metadata": {
    "collapsed": false
   }
  }
 ],
 "metadata": {
  "kernelspec": {
   "display_name": "Python 3 (ipykernel)",
   "language": "python",
   "name": "python3"
  },
  "language_info": {
   "codemirror_mode": {
    "name": "ipython",
    "version": 3
   },
   "file_extension": ".py",
   "mimetype": "text/x-python",
   "name": "python",
   "nbconvert_exporter": "python",
   "pygments_lexer": "ipython3",
   "version": "3.10.9"
  }
 },
 "nbformat": 4,
 "nbformat_minor": 2
}
